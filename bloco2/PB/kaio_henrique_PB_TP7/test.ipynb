{
 "cells": [
  {
   "cell_type": "code",
   "execution_count": 5,
   "metadata": {},
   "outputs": [
    {
     "name": "stdout",
     "output_type": "stream",
     "text": [
      "Memória:  56.0859375 MB\n",
      "CPU:  0.0 %\n",
      "pcputimes(user=3.08, system=1.03, children_user=0.0, children_system=0.0)\n"
     ]
    }
   ],
   "source": [
    "import psutil\n",
    "import os\n",
    "import ipaddress\n",
    "\n",
    "def  get_process_consumption(pid):\n",
    "    \"\"\"\n",
    "    Função que retorna o consumo de um processo\n",
    "    :param pid:\n",
    "    :return:\n",
    "    \"\"\"\n",
    "    # Lista consumo de memória e cpu\n",
    "    try:\n",
    "        # Lista info de memória do processo e converte para bytes(rss), que em seguida\n",
    "        # divide por 1024 * 1024 para obter o consumo em MB\n",
    "        print(\"Memória: \", round((psutil.Process(pid).memory_info().rss))/(1024*1024), \"MB\")\n",
    "        print(\"CPU: \", psutil.Process(pid).cpu_percent(), \"%\")\n",
    "        print(psutil.Process(pid).cpu_times())\n",
    "    except:\n",
    "        print(\"Processo não encontrado\")\n",
    "        pass\n",
    "\n",
    "get_process_consumption(4896)"
   ]
  }
 ],
 "metadata": {
  "interpreter": {
   "hash": "916dbcbb3f70747c44a77c7bcd40155683ae19c65e1c03b4aa3499c5328201f1"
  },
  "kernelspec": {
   "display_name": "Python 3.8.10 64-bit",
   "language": "python",
   "name": "python3"
  },
  "language_info": {
   "codemirror_mode": {
    "name": "ipython",
    "version": 3
   },
   "file_extension": ".py",
   "mimetype": "text/x-python",
   "name": "python",
   "nbconvert_exporter": "python",
   "pygments_lexer": "ipython3",
   "version": "3.8.10"
  },
  "orig_nbformat": 4
 },
 "nbformat": 4,
 "nbformat_minor": 2
}
