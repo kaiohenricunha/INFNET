{
 "cells": [
  {
   "cell_type": "code",
   "execution_count": null,
   "metadata": {},
   "outputs": [],
   "source": [
    "import os\n",
    " \n",
    "#https://www.youtube.com/watch?v=6a4m7L7juKQ\n",
    " \n",
    "caminho_procura = input('Digite um caminho: ')\n",
    "caminho_procura = caminho_procura.replace('\"', '').replace(\"'\",'').strip()\n",
    " \n",
    "termo_procura = input('Digite um termo: ').strip()\n",
    " \n",
    "def formata_tamanho(tamanho):\n",
    "    base = 1024\n",
    "    kilo = base\n",
    "    mega = base ** 2\n",
    "    giga = base ** 3\n",
    "    tera = base ** 4\n",
    "    peta = base ** 5\n",
    " \n",
    "    if tamanho < kilo:\n",
    "        sigla = 'B'\n",
    "    elif tamanho < mega:\n",
    "        tamanho /= kilo\n",
    "        sigla = 'K'\n",
    "    elif tamanho < giga:\n",
    "        tamanho /= mega\n",
    "        sigla = 'M'\n",
    "    elif tamanho < tera:\n",
    "        tamanho /= giga\n",
    "        sigla = 'G'\n",
    "    else:\n",
    "        tamanho /= peta\n",
    "        sigla = 'P'\n",
    " \n",
    "for root, dirs, files in os.walk(caminho_procura):\n",
    "    for file in files:\n",
    "            if termo_procura in file:\n",
    "                    try:\n",
    "                            file_abspath = os. path.join(root, file)\n",
    "                            file_name, file_ext = os.path.splitext(file)\n",
    "                            file_size = os.path.getsize(file_abspath)\n",
    "                            file_size_f = formata_tamanho(file_size)\n",
    "                            print()\n",
    "                            print('Encontrei o arquivo:', file, file_size_f)\n",
    "                            print('Caminho do arquivo:', file_abspath)\n",
    "                            print('Nome do arquivo: ', file_name)\n",
    "                            print('Extensão do arquivo:', file_ext)\n",
    "                            print('Tamanho em bytes:', file_size)\n",
    "                            print('Tamanho formatado:', formata_tamanho(file_size))\n",
    "                    except PermissionError as e:\n",
    "                            print(\"Sem permissão neste arquivo.\")\n",
    "                    except FileNotFoundError as e:\n",
    "                            print(\"Arquivo não encontrado.\")\n",
    "                    except Exception as e:\n",
    "                            print(\"Erro desconhecido:\", e)"
   ]
  },
  {
   "cell_type": "code",
   "execution_count": null,
   "metadata": {},
   "outputs": [],
   "source": [
    "import time\n",
    "import subprocess, psutil\n",
    "\n",
    "for i in range(8, 1, -1):\n",
    "    print('%s %0.2f %0.2f' % (time.ctime(), time.time(), time.process_time()))\n",
    "    print('Dormingo', i, ' segs')\n",
    "\n",
    "    pid = subprocess.Popen(\"bc\")\n",
    "    time.sleep(i)"
   ]
  }
 ],
 "metadata": {
  "interpreter": {
   "hash": "916dbcbb3f70747c44a77c7bcd40155683ae19c65e1c03b4aa3499c5328201f1"
  },
  "kernelspec": {
   "display_name": "Python 3.8.10 64-bit",
   "name": "python3"
  },
  "language_info": {
   "codemirror_mode": {
    "name": "ipython",
    "version": 3
   },
   "file_extension": ".py",
   "mimetype": "text/x-python",
   "name": "python",
   "nbconvert_exporter": "python",
   "pygments_lexer": "ipython3",
   "version": "3.8.10"
  },
  "orig_nbformat": 4
 },
 "nbformat": 4,
 "nbformat_minor": 2
}
