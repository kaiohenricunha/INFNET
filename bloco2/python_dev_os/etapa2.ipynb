{
 "cells": [
  {
   "cell_type": "code",
   "execution_count": 6,
   "metadata": {},
   "outputs": [
    {
     "name": "stdout",
     "output_type": "stream",
     "text": [
      "PID do processo criado: 59060\n",
      "PID do processo criado: 59061\n"
     ]
    }
   ],
   "source": [
    "import subprocess\n",
    "\n",
    "# print(subprocess.run(\"bc\"))\n",
    "\n",
    "# print(subprocess.run([\"subl\", \"arq_texto.txt\"]))\n",
    "\n",
    "p = subprocess.Popen(\"bc\")\n",
    "print(\"PID do processo criado:\", p.pid)\n",
    "\n",
    "p2 = subprocess.Popen([\"subl\", \"arq_texto.txt\"])\n",
    "print(\"PID do processo criado:\", p2.pid)\n",
    "\n"
   ]
  },
  {
   "cell_type": "code",
   "execution_count": 27,
   "metadata": {},
   "outputs": [
    {
     "name": "stdout",
     "output_type": "stream",
     "text": [
      "[70.0, 90.0]\n",
      "[100.0, 100.0]\n",
      "[100.0, 100.0]\n"
     ]
    },
    {
     "data": {
      "text/plain": [
       "svmem(total=4090970112, available=628924416, percent=84.6, used=3107766272, free=127995904, active=813789184, inactive=2353188864, buffers=55234560, cached=799973376, shared=101511168, slab=219856896)"
      ]
     },
     "execution_count": 27,
     "metadata": {},
     "output_type": "execute_result"
    }
   ],
   "source": [
    "import psutil, time\n",
    "psutil.cpu_percent(percpu=True)\n",
    "for i in range(3):\n",
    "    time.sleep(0.1) # dorme por 0,1 segundos\n",
    "    print(psutil.cpu_percent(percpu=True))\n",
    "psutil.cpu_count()"
   ]
  }
 ],
 "metadata": {
  "interpreter": {
   "hash": "916dbcbb3f70747c44a77c7bcd40155683ae19c65e1c03b4aa3499c5328201f1"
  },
  "kernelspec": {
   "display_name": "Python 3.8.10 64-bit",
   "name": "python3"
  },
  "language_info": {
   "codemirror_mode": {
    "name": "ipython",
    "version": 3
   },
   "file_extension": ".py",
   "mimetype": "text/x-python",
   "name": "python",
   "nbconvert_exporter": "python",
   "pygments_lexer": "ipython3",
   "version": "3.8.10"
  },
  "orig_nbformat": 4
 },
 "nbformat": 4,
 "nbformat_minor": 2
}
