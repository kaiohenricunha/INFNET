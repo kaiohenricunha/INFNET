{
 "cells": [
  {
   "cell_type": "code",
   "execution_count": 1,
   "metadata": {},
   "outputs": [
    {
     "name": "stdout",
     "output_type": "stream",
     "text": [
      "['udp_server.py', 'test.ipynb', 'client.py', 'server.py', '.ipynb_checkpoints', 'udp_client.py']\n",
      "933\n"
     ]
    }
   ],
   "source": [
    "import psutil, os\n",
    "from hurry.filesize import size\n",
    "\n",
    "\n",
    "def get_file(option):    \n",
    "    dir = os.listdir()\n",
    "\n",
    "    print(dir) \n",
    "    notfound = \"File not found...\"\n",
    "    \n",
    "    for file in dir: \n",
    "        if os.path.isfile(file):\n",
    "           if file == option: \n",
    "                file_size = os.path.getsize(file)\n",
    "                size(file_size)\n",
    "                return file_size\n",
    "    return notfound\n",
    "\n",
    "print(get_file('server.py'))"
   ]
  }
 ],
 "metadata": {
  "interpreter": {
   "hash": "916dbcbb3f70747c44a77c7bcd40155683ae19c65e1c03b4aa3499c5328201f1"
  },
  "kernelspec": {
   "display_name": "Python 3.8.10 64-bit",
   "language": "python",
   "name": "python3"
  },
  "language_info": {
   "codemirror_mode": {
    "name": "ipython",
    "version": 3
   },
   "file_extension": ".py",
   "mimetype": "text/x-python",
   "name": "python",
   "nbconvert_exporter": "python",
   "pygments_lexer": "ipython3",
   "version": "3.8.10"
  },
  "orig_nbformat": 4
 },
 "nbformat": 4,
 "nbformat_minor": 2
}
