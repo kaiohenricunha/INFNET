{
 "cells": [
  {
   "cell_type": "code",
   "execution_count": null,
   "metadata": {},
   "outputs": [],
   "source": [
    "# 1 - Escreva um programa usando o módulo ‘os’ de Python que imprima o nome de usuário.\n",
    "\n",
    "import os\n",
    "from decouple import config\n",
    "\n",
    "print(os.name)\n",
    "\n",
    "# Portable Operating System Interface"
   ]
  },
  {
   "cell_type": "code",
   "execution_count": null,
   "metadata": {},
   "outputs": [],
   "source": [
    "# 2 - Sobre variáveis de ambiente, responda:\n",
    "# O que são?\n",
    "# Como elas podem ser obtidas pelo módulo ‘os’ de Python?\n",
    "# Como pode ser obtido o caminho completo do diretório de usuário em Python, através das variáveis de ambiente?\n",
    "\n",
    "# São variáveis de ambiente que são usadas para armazenar informações sobre o computador que está executando o programa. Uma variável de ambiente é\n",
    "# é um valor dinamicamente nomeado, e que pode afetar o funcionamento dos processos em um computador. Pode-se dizer, também, que variáveis\n",
    "# de ambiente sao atalhos disponíveis no ambiente de execuçao, como um sistema operacional inteiro. Alguns programas procuram por essas variáveis\n",
    "# para que possam funcionar corretamente. Por exemplo, alguns programas vao procurar pelo binário da linguagem Java.\n",
    "\n",
    "# Criando as variáveis de ambiente\n",
    "os.environ['API_USER'] = 'username'\n",
    "os.environ['API_PASSWORD'] = 'secret'\n",
    "\n",
    "# Buscando as variáveis de ambiente\n",
    "USER = os.getenv('API_USER')\n",
    "PASSWORD = os.environ.get('API_PASSWORD')\n",
    "print(USER)\n",
    "print(PASSWORD)\n",
    "\n",
    "# Obtendo o caminho completo do diretório de usuário\n",
    "print(os.path.expanduser('~'))"
   ]
  },
  {
   "cell_type": "code",
   "execution_count": null,
   "metadata": {},
   "outputs": [],
   "source": [
    "# 3 - Escreva um programa usando o módulo ‘os’ de Python que imprima o PID do próprio processo e também seu GID \n",
    "# (identificador de grupo) caso seja sistema do tipo Linux.\n",
    "    \n",
    "import os\n",
    "\n",
    "print(os.getpid())\n",
    "print(os.getgid())"
   ]
  },
  {
   "cell_type": "code",
   "execution_count": null,
   "metadata": {},
   "outputs": [],
   "source": [
    "# 4 - Que função do módulo ‘os’ de Python é usada para obter o caminho absoluto de \n",
    "# um diretório com caminho relativo? Dê um exemplo.\n",
    "\n",
    "os.path.abspath('.')"
   ]
  },
  {
   "cell_type": "code",
   "execution_count": null,
   "metadata": {},
   "outputs": [],
   "source": [
    "# 5 - Escreva um programa que indique se um arquivo existe ou não. \n",
    "# Caso exista, indique se é realmente um arquivo ou não.\n",
    "\n",
    "import os\n",
    "\n",
    "file = './kaio_henrique_python_dev_os_TP1.ipynb'\n",
    "if os.path.exists(file):\n",
    "    print('O arquivo existe')\n",
    "    if os.path.isfile(file):\n",
    "        print('É um arquivo')\n",
    "    else:\n",
    "        print('É um diretório')\n",
    "else:\n",
    "    print('O arquivo não existe')"
   ]
  },
  {
   "cell_type": "code",
   "execution_count": null,
   "metadata": {},
   "outputs": [],
   "source": [
    "# 6 - Escreva um programa que indique a extensão de um arquivo usando função do módulo os.path.\n",
    "\n",
    "file = './kaio_henrique_python_dev_os_TP1.ipynb'\n",
    "print(os.path.splitext(file))\n"
   ]
  },
  {
   "cell_type": "code",
   "execution_count": null,
   "metadata": {},
   "outputs": [],
   "source": [
    "# 7 - Escreva um programa que imprima apenas o caminho absoluto de um arquivo com nome relativo. \n",
    "# A impressão não deve conter o nome do arquivo, apenas o caminho. caminho absoluto de um arquivo com nome relativo. \n",
    "\n",
    "file1 = './kaio_henrique_python_dev_os_TP1.ipynb'\n",
    "file2 = os.path.abspath(file1)\n",
    "file3 = os.path.split(file2)\n",
    "print(file3[0])\n",
    "\n"
   ]
  },
  {
   "cell_type": "code",
   "execution_count": null,
   "metadata": {},
   "outputs": [],
   "source": [
    "# 8 - Escreva um programa que mostre a quantidade de bytes (em KB) de cada arquivo em um diretório.\n",
    "\n",
    "files = os.listdir('.')\n",
    "\n",
    "for file in files:\n",
    "    print(file,':', os.path.getsize(file),'bytes')"
   ]
  },
  {
   "cell_type": "code",
   "execution_count": null,
   "metadata": {},
   "outputs": [],
   "source": [
    "# 9 - Escreva um programa que mostre as datas de criação e modificação de cada arquivo em um diretório.\n",
    "from datetime import datetime\n",
    "\n",
    "files = os.listdir('.')\n",
    "\n",
    "for file in files:\n",
    "    # print(file, ':', os.path.getctime(file))\n",
    "    # print(file, ':', os.path.getmtime(file))\n",
    "    ctime = os.path.getctime(file)\n",
    "    mtime = os.path.getmtime(file)\n",
    "    print(file, ':', datetime.fromtimestamp(ctime).strftime('%d/%m/%Y %H:%M:%S'), ':', datetime.fromtimestamp(mtime).strftime('%d/%m/%Y %H:%M:%S'))"
   ]
  },
  {
   "cell_type": "code",
   "execution_count": null,
   "metadata": {},
   "outputs": [],
   "source": [
    "# 10 - Os comandos os.exec* e os.spawn* são bastante parecidos. No entanto, eles apresentam uma diferença em suas execuções. \n",
    "# Aponte qual é está diferença.\n",
    "\n",
    "# Usamos spawn para comandos interativos e exec para comandos não interativos."
   ]
  },
  {
   "cell_type": "code",
   "execution_count": null,
   "metadata": {},
   "outputs": [],
   "source": [
    "# 11 - Escreva um programa que obtenha um nome de um arquivo texto do usuário e crie um processo, \n",
    "# usando o módulo ‘os’, de bloco de notas (notepad) para abri-lo.\n",
    "\n",
    "import os\n",
    "\n",
    "file = input('Digite o nome do arquivo: ')\n",
    "file = 'subl ' + os.path.abspath(file)\n",
    "os.system(file)"
   ]
  },
  {
   "cell_type": "code",
   "execution_count": null,
   "metadata": {},
   "outputs": [],
   "source": [
    "# 12 - Indique uma maneira de criar um processo externo ao seu programa usando\n",
    "#  o módulo ‘os’ e usando o módulo ‘subprocess’ de Python. Dê um exemplo de cada.\n",
    "\n",
    "import subprocess\n",
    "\n",
    "print(os.system('subl'))\n",
    "p = subprocess.Popen(\"bc\")\n",
    "print(\"PID do processo criado:\", p.pid)\n",
    "\n"
   ]
  },
  {
   "cell_type": "code",
   "execution_count": null,
   "metadata": {},
   "outputs": [],
   "source": [
    "# 13 - Usando o módulo ‘subprocess’ de Python, crie um processo externo e imprima o PID dele.\n",
    "\n",
    "p = subprocess.Popen(\"subl\")\n",
    "print(\"PID do processo criado:\", p.pid)"
   ]
  },
  {
   "cell_type": "code",
   "execution_count": null,
   "metadata": {},
   "outputs": [],
   "source": [
    "# 14 - Explique a principal semelhança e a principal diferença entre os comandos psutil.pids e psutil.process_iter.\n",
    "\n",
    "import psutil\n",
    "\n",
    "# Lista todos os processos que estão executando na máquina\n",
    "print(psutil.pids())\n",
    "\n",
    "# Também lista todos os processos que estão executando na máquina, mas é implementado de forma diferente, melhor para iteraçoes\n",
    "for p in psutil.process_iter():\n",
    "    print(p.pid)"
   ]
  },
  {
   "cell_type": "code",
   "execution_count": null,
   "metadata": {},
   "outputs": [],
   "source": [
    "# 15 - Escreva uma função em Python que, dado um número PID, imprima o nome do usuário proprietário, \n",
    "# o tempo de criação e o uso de memória em KB.\n",
    "\n",
    "pid = 10\n",
    "p = psutil.Process(pid)\n",
    "print(p.username(), p.create_time(), p.memory_info().rss)"
   ]
  },
  {
   "cell_type": "code",
   "execution_count": null,
   "metadata": {},
   "outputs": [],
   "source": [
    "# 16 - Escreva um programa em Python, usando o módulo ‘psutil’, que imprima o tempo de CPU em segundos por núcleo.\n",
    "\n",
    "print(psutil.cpu_times(percpu=True))"
   ]
  },
  {
   "cell_type": "code",
   "execution_count": null,
   "metadata": {},
   "outputs": [],
   "source": [
    "# 17 - Escreva um programa em Python, usando o módulo ‘psutil’, que imprima 20 vezes, de segundo a segundo, \n",
    "# o percentual do uso de CPU do computador.\n",
    "\n",
    "import psutil, time\n",
    "psutil.cpu_times_percent()\n",
    "for i in range(5):\n",
    "    time.sleep(1.0)\n",
    "    print(psutil.cpu_times_percent())"
   ]
  },
  {
   "cell_type": "code",
   "execution_count": null,
   "metadata": {},
   "outputs": [],
   "source": [
    "# 18 - Escreva um programa em Python, usando o módulo ‘psutil’, que imprima em GB, quanto de memória principal \n",
    "# e quanto de memória de paginação (swap) existem no computador.\n",
    "\n",
    "print(psutil.virtual_memory().total / (1024.0 ** 3))\n",
    "\n",
    "print(psutil.swap_memory().total / (1024.0 ** 3))"
   ]
  },
  {
   "cell_type": "code",
   "execution_count": null,
   "metadata": {},
   "outputs": [],
   "source": [
    "# 19 - Escreva um programa em Python, usando o módulo ‘psutil’, que imprima em GB, quanto de armazenamento \n",
    "# disponível há na partição do sistema (onde o sistema está instalado).\n",
    "\n",
    "print(psutil.disk_usage('/').free / (1024.0 ** 3))"
   ]
  },
  {
   "cell_type": "code",
   "execution_count": null,
   "metadata": {},
   "outputs": [],
   "source": [
    "# 20 - Escreva um programa em Python usando o módulo ‘psutil’, que imprima para a partição corrente:\n",
    "# o nome do dispositivo,\n",
    "# o tipo de sistema de arquivos que ela possui (FAT, NTFS, EXT, ...),\n",
    "# o total de armazenamento em GB e\n",
    "# o armazenamento disponível em GB.\n",
    "\n",
    "p = psutil.disk_partitions()\n",
    "for i in p:\n",
    "    print(i.device, i.fstype)\n",
    "d = psutil.disk_usage('.')\n",
    "print(d.total / (1024.0 ** 3))\n",
    "print(d.free / (1024.0 ** 3))"
   ]
  }
 ],
 "metadata": {
  "interpreter": {
   "hash": "916dbcbb3f70747c44a77c7bcd40155683ae19c65e1c03b4aa3499c5328201f1"
  },
  "kernelspec": {
   "display_name": "Python 3.8.10 64-bit",
   "name": "python3"
  },
  "language_info": {
   "codemirror_mode": {
    "name": "ipython",
    "version": 3
   },
   "file_extension": ".py",
   "mimetype": "text/x-python",
   "name": "python",
   "nbconvert_exporter": "python",
   "pygments_lexer": "ipython3",
   "version": "3.8.10"
  },
  "orig_nbformat": 4
 },
 "nbformat": 4,
 "nbformat_minor": 2
}
