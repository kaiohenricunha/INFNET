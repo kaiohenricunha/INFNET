{
 "cells": [
  {
   "cell_type": "code",
   "execution_count": null,
   "source": [
    "\n",
    "# Link com material das aulas https://drive.google.com/drive/folders/1bSDLpMKM0OLfHfMqcsgYtwsmLHj4Pr74\n",
    "\n",
    "# etapa 4 https://colab.research.google.com/drive/1FkbvC36D_VAKUlB0yo2ThwdUc67lu4rC#scrollTo=jvKTr3gmXA7S\n",
    "\n",
    "# IntroPyGame https://colab.research.google.com/drive/1oNI6EgabshIos1JtxgEaIyAEP9Jx7DpE"
   ],
   "outputs": [],
   "metadata": {}
  },
  {
   "cell_type": "code",
   "execution_count": 6,
   "source": [
    "# Usando Python, faça o que se pede (código):\n",
    "\n",
    "# 1) Crie uma lista vazia;\n",
    "lista = []\n",
    "# 2) Adicione os elementos: 1, 2, 3, 4 e 5,  usando append();\n",
    "for i in range(1, 7):\n",
    "    lista.append(i)\n",
    "# 3) Imprima a lista;\n",
    "print(lista)\n",
    "# 4) Agora, remova os elementos 3 e 6 (não esqueça de checar se eles estão na lista);\n",
    "lista.remove(3)\n",
    "lista.remove(6)\n",
    "# 5) Imprima a lista modificada;\n",
    "print(lista)\n",
    "# 6) Imprima também o tamanho da lista usando a função len();\n",
    "print(len(lista))\n",
    "# 7) Altere o valor do último elemento para 6 e imprima a lista modificada.\n",
    "lista.pop\n",
    "lista.append(6)\n",
    "print(lista)"
   ],
   "outputs": [
    {
     "output_type": "stream",
     "name": "stdout",
     "text": [
      "[1, 2, 3, 4, 5, 6]\n",
      "[1, 2, 4, 5]\n",
      "4\n",
      "[1, 2, 4, 5, 6]\n"
     ]
    }
   ],
   "metadata": {}
  },
  {
   "cell_type": "code",
   "execution_count": 10,
   "source": [
    "# Escreva um programa em Python que leia um vetor de 5 números inteiros e mostre-os.\n",
    "\n",
    "def leitor_vetor(lista):\n",
    "    for i in range(len(lista)):\n",
    "        print(lista[i])\n",
    "\n",
    "leitor_vetor(lista)"
   ],
   "outputs": [
    {
     "output_type": "stream",
     "name": "stdout",
     "text": [
      "1\n",
      "2\n",
      "4\n",
      "5\n",
      "6\n"
     ]
    }
   ],
   "metadata": {}
  },
  {
   "cell_type": "code",
   "execution_count": 14,
   "source": [
    "# Escreva um programa em Python que leia um vetor de 10 palavras e mostre-as na ordem inversa de leitura.\n",
    "palavras = ['abc', 'tokyo', 'rio', 'madrid', 'tenerife', 'cuzco', 'lalibela', 'kyoto', 'seoul', 'bali']\n",
    "\n",
    "def ler_palavras_reverse(palavras):\n",
    "    palavras.reverse()\n",
    "    print(palavras)\n",
    "\n",
    "ler_palavras_reverse(palavras)"
   ],
   "outputs": [
    {
     "output_type": "stream",
     "name": "stdout",
     "text": [
      "['bali', 'seoul', 'kyoto', 'lalibela', 'cuzco', 'tenerife', 'madrid', 'rio', 'tokyo', 'abc']\n"
     ]
    }
   ],
   "metadata": {}
  },
  {
   "cell_type": "code",
   "execution_count": 20,
   "source": [
    "# Escreva um programa em Python que leia um vetor de números de tamanho t. Leia t previamente. \n",
    "# Em seguida, faça seu programa verificar quantos números iguais a 0 existem nele.\n",
    "\n",
    "lista2 = [1, 4, 6, 4, 9, 0, 10, 0, 6]\n",
    "\n",
    "def verifica_lista_zero(lista2):\n",
    "    contador = 0\n",
    "    for i in range(len(lista2)):\n",
    "        if lista2[i] == 0:\n",
    "            contador = contador +1\n",
    "    print(\"A lista possui\", contador, \"zero(s)\")\n",
    "\n",
    "verifica_lista_zero(lista2)"
   ],
   "outputs": [
    {
     "output_type": "stream",
     "name": "stdout",
     "text": [
      "A lista possui 2 zero(s)\n"
     ]
    }
   ],
   "metadata": {}
  },
  {
   "cell_type": "code",
   "execution_count": 31,
   "source": [
    "# Escreva um programa em Python que leia nomes de alunos e suas alturas em metros até que um nome de aluno seja o código de saída “Sair”. \n",
    "# O programa deve possuir uma função que indica todos os alunos que tenham altura acima da média (a média aritmética das alturas de todos os alunos lidos).\n",
    "\n",
    "lista_alunos = ['Leonel Brizola', 'Abdias Nascimento', 'Curtis Mayfield', 'Gilberto Gil', 'Chewbbaca', 'Jake, The Dog', 'Raimundo Fagner']\n",
    "lista_altura = [1.65, 1.80, 1.90, 1.75, 2.0, 0.5, 1.75]\n",
    "\n",
    "def procurar_aluno():\n",
    "    nome_aluno = input(\"Digite o nome do aluno\")\n",
    "\n",
    "    if nome_aluno in lista_alunos:\n",
    "            altura = lista_alunos.index(nome_aluno)\n",
    "            print('O aluno', nome_aluno, 'tem', lista_altura[altura], 'de altura')\n",
    "            procurar_aluno()\n",
    "    elif nome_aluno == 'sair':\n",
    "        print('Saindo...')\n",
    "        media_altura()\n",
    "    else:\n",
    "        print('Aluno nao consta na lista. Tente novamente.')\n",
    "        procurar_aluno()\n",
    "\n",
    "\n",
    "def media_altura():\n",
    "    soma = 0\n",
    "\n",
    "    for i in range(len(lista_altura)):\n",
    "        soma = soma + lista_altura[i]\n",
    "\n",
    "    media = soma / len(lista_altura)\n",
    "\n",
    "    print('A média de altura da turma é', media, 'metros.')\n",
    "    print('Os seguintes alunos tem altura acima da media:')\n",
    "\n",
    "    for i in range(len(lista_altura)):\n",
    "        if lista_altura[i] > media:\n",
    "            print(lista_alunos[i])\n",
    "\n",
    "procurar_aluno()"
   ],
   "outputs": [
    {
     "output_type": "stream",
     "name": "stdout",
     "text": [
      "Saindo...\n",
      "A média de altura da turma é 1.6214285714285714 metros.\n",
      "Os seguintes alunos tem altura acima da media:\n",
      "Leonel Brizola\n",
      "Abdias Nascimento\n",
      "Curtis Mayfield\n",
      "Gilberto Gil\n",
      "Chewbbaca\n",
      "Raimundo Fagner\n"
     ]
    }
   ],
   "metadata": {}
  },
  {
   "cell_type": "code",
   "execution_count": 36,
   "source": [
    "# Escreva um programa em Python que leia diversas frases até a palavra “Sair” ser digitada. Indique quais frases apresentam a palavra “eu”.\n",
    "\n",
    "lista_frases = ['Ai eu pensei que ia indo caminhando, mas não fui', 'Para um sonho diferente que se realiza e reproduz', 'Só não morro sem dinheiro não quero ficar para trás',\n",
    "'No dia que eu penetrar do outro lado da vida eu não volto mais', \n",
    "'Aqui no Rio de Janeiro levo a vida a 1 cruzeiro. Sou amigo nessa hora da sola do meu sapato. Eu estou pregado neste mundo como se fosse um carrapato', 'sair']\n",
    "\n",
    "def ler_frase(frase):\n",
    "\n",
    "    if \"eu\" in frase:\n",
    "        print('Frase:', frase)\n",
    "        print(\"A frase contém a palavra 'eu'\")\n",
    "    elif frase == 'sair':\n",
    "        print('Saindo...')\n",
    "    else:\n",
    "        print(\"A frase nao contém a palavra 'eu'\")\n",
    "\n",
    "ler_frase(lista_frases[0])\n",
    "ler_frase(lista_frases[1])\n",
    "ler_frase(lista_frases[2])\n",
    "ler_frase(lista_frases[3])\n",
    "ler_frase(lista_frases[len(lista_frases) - 1])"
   ],
   "outputs": [
    {
     "output_type": "stream",
     "name": "stdout",
     "text": [
      "Frase: Ai eu pensei que ia indo caminhando, mas não fui\n",
      "A frase contém a palavra 'eu'\n",
      "A frase nao contém a palavra 'eu'\n",
      "A frase nao contém a palavra 'eu'\n",
      "Frase: No dia que eu penetrar do outro lado da vida eu não volto mais\n",
      "A frase contém a palavra 'eu'\n",
      "Saindo...\n"
     ]
    }
   ],
   "metadata": {}
  },
  {
   "cell_type": "code",
   "execution_count": 45,
   "source": [
    "# Escreva um programa em Python que realiza operações de inclusão e remoção em listas. Seu programa deve perguntar ao usuário qual operação deseja fazer: (código)\n",
    "# 1) Mostrar lista;\n",
    "# 2) Incluir elemento;\n",
    "# 3) Remover elemento;\n",
    "# 4) Apagar todos os elementos da lista.\n",
    "\n",
    "lista3 = [1, 2, 3, 5, 4, 6, 78]\n",
    "\n",
    "def operacao(codigo):\n",
    "\n",
    "    if codigo == 1:\n",
    "        print(lista3)\n",
    "    elif codigo == 2:\n",
    "        elemento = input('Qual elemento que deseja incluir?')\n",
    "        lista3.append(elemento)\n",
    "        print(lista3)\n",
    "    elif codigo == 3:\n",
    "        elemento = input('Qual elemento que deseja remover?')\n",
    "        lista3.remove(elemento)\n",
    "        print(lista3)\n",
    "    elif codigo == 4:\n",
    "        lista3.clear()\n",
    "        print('Lista esvaziada com sucesso.')\n",
    "    else:\n",
    "        print('Código inválido.Tente novamente')\n",
    "\n",
    "operacao(1)\n",
    "operacao(2)\n",
    "operacao(3)\n",
    "operacao(4)\n",
    "operacao(18)"
   ],
   "outputs": [
    {
     "output_type": "stream",
     "name": "stdout",
     "text": [
      "[1, 2, 3, 5, 4, 6, 78]\n",
      "[1, 2, 3, 5, 4, 6, 78, '15']\n",
      "[1, 2, 3, 5, 4, 6, 78]\n",
      "Lista esvaziada com sucesso.\n",
      "Código inválido.Tente novamente\n"
     ]
    }
   ],
   "metadata": {}
  },
  {
   "cell_type": "code",
   "execution_count": 54,
   "source": [
    "# Faça uma função um programa em Python que simula um lançamento de dados. Lance o dado 100 vezes e armazene os resultados em um vetor. \n",
    "# Depois, mostre quantas vezes cada valor foi conseguido. Dica: use um vetor de contadores (1-6) e uma função do módulo 'random' \n",
    "# de Python para gerar números aleatórios, \n",
    "# simulando os lançamentos dos dados. (código)\n",
    "import random\n",
    "\n",
    "numeros = []\n",
    "\n",
    "def lançar_dado():\n",
    "\n",
    "    for i in range(100):\n",
    "        numero = random.randint(1, 6)\n",
    "        numeros.append(numero)\n",
    "    print(numeros)\n",
    "\n",
    "def count_numero(numero):\n",
    "\n",
    "    count = 0\n",
    "\n",
    "    for i in range(len(numeros)):\n",
    "        if numero == numeros[i]:\n",
    "            count = count + 1\n",
    "    print('O número', numero, 'foi sorteado', count, 'vezes.')\n",
    "\n",
    "\n",
    "lançar_dado()\n",
    "count_numero(5)\n"
   ],
   "outputs": [
    {
     "output_type": "stream",
     "name": "stdout",
     "text": [
      "[6, 1, 2, 4, 4, 5, 2, 6, 1, 5, 1, 2, 2, 5, 6, 2, 6, 3, 6, 1, 4, 5, 2, 6, 2, 1, 2, 6, 1, 5, 3, 1, 2, 6, 3, 3, 5, 6, 2, 5, 4, 2, 3, 5, 2, 4, 3, 5, 5, 1, 6, 6, 6, 6, 6, 4, 5, 3, 2, 4, 5, 6, 4, 2, 6, 6, 4, 1, 5, 2, 2, 4, 2, 1, 1, 1, 6, 5, 5, 2, 3, 6, 6, 2, 4, 4, 3, 1, 2, 5, 5, 3, 2, 2, 6, 6, 1, 1, 2, 3]\n",
      "O número 5 foi sorteado 17 vezes.\n"
     ]
    }
   ],
   "metadata": {}
  },
  {
   "cell_type": "code",
   "execution_count": 56,
   "source": [
    "# O jogo da memória é um clássico jogo formado por peças que apresentam uma figura ou cor em um dos lados. Cada figura/cor se repete em duas peças diferentes. \n",
    "# Para começar o jogo, as peças são postas com as figuras/cores voltadas para baixo, para que não possam ser vistas. Cada jogada do jogador consiste em virar duas peças, clicando nelas. \n",
    "# Caso as figuras/cores sejam iguais, as peças permanecem viradas. \n",
    "# Se forem peças diferentes, estas devem ser viradas novamente. O jogo termina quando todas as peças forem viradas. A pontuação do jogador corresponde a todas as suas jogadas. Quanto menor o número de jogadas, melhor a sua pontuação.\n",
    "\n",
    "# 1) As peças podem ser quadrados posicionadas em forma de matriz. Por exemplo, se forem 16 peças, elas podem ser posicionadas na resolução 4x4 ou 2x8 ou como preferir.\n",
    "\n",
    "#Carrega os módulos e cria o display\n",
    "import os, random, time, pygame\n",
    "pygame.init()\n",
    "SCREEN = (700,450)\n",
    "pygame.display.set_caption(\"Jogo da Memória\")\n",
    "DISPLAY = pygame.display.set_mode(SCREEN)\n",
    "\n",
    "# Define os objetos e cria o grid\n",
    "WHITE = (255, 255, 255)\n",
    "BLACK = (0, 0, 0)\n",
    "RED = (255, 0, 0)\n",
    "GREEN = (0, 255, 0)\n",
    "ARIAL_200 = pygame.font.SysFont(\"Arial\", 200)\n",
    "ARIAL_50 = pygame.font.SysFont(\"Arial\", 50)\n",
    "ARIAL_35 = pygame.font.SysFont(\"Arial\", 35)\n",
    "ARIAL_20 = pygame.font.SysFont(\"Arial\", 20)\n",
    "CARD_LEN = 100\n",
    "CARD_MARGIN = 10\n",
    "CARD_HOR_PAD = 37\n",
    "CARD_VER_PAD = 22\n",
    "ROWS = 4\n",
    "COLS = 5\n",
    "cards = [i for i in range(10) for j in range(2)]\n",
    "random.shuffle(cards)\n",
    "CARD_VAL_GRID = [cards[i*len(cards) // ROWS:(i+1)*len(cards) // ROWS] for i in range(ROWS)]\n",
    "CARD_GRID = [[] for i in range(ROWS)]\n",
    "for i in range(ROWS):\n",
    "    if i == 0:\n",
    "        for j in range(COLS):\n",
    "            if j == 0:\n",
    "                CARD_GRID[i].append(pygame.Rect(CARD_MARGIN, CARD_MARGIN, CARD_LEN, CARD_LEN))\n",
    "            else:\n",
    "                CARD_GRID[i].append(pygame.Rect(CARD_GRID[i][j-1].x + CARD_LEN + CARD_MARGIN, CARD_MARGIN, CARD_LEN, CARD_LEN))\n",
    "    else:\n",
    "        for j in range(COLS):\n",
    "            if j == 0:\n",
    "                CARD_GRID[i].append(pygame.Rect(CARD_MARGIN, CARD_GRID[i-1][0].y + CARD_LEN + CARD_MARGIN, CARD_LEN, CARD_LEN))\n",
    "            else:\n",
    "                CARD_GRID[i].append(pygame.Rect(CARD_GRID[i][j-1].x + CARD_LEN + CARD_MARGIN, CARD_GRID[i-1][0].y + CARD_LEN + CARD_MARGIN, CARD_LEN, CARD_LEN))\n",
    "global exposed\n",
    "exposed = []\n",
    "global matched\n",
    "matched = []\n",
    "global wrong\n",
    "wrong = []\n",
    "global turns\n",
    "turns = 0\n",
    "\n",
    "# loop do jogo\n",
    "while True:\n",
    "    for event in pygame.event.get():\n",
    "        # confere se o click foi no botao de fechar a janela\n",
    "        if event.type == pygame.QUIT:\n",
    "            pygame.quit()\n",
    "\n",
    "    # Confere os outros eventos\n",
    "    pressed = list(pygame.mouse.get_pressed())\n",
    "    for i in range(len(pressed)):\n",
    "        if pressed[i]:\n",
    "            for i in range(ROWS):\n",
    "                for j in range(COLS):\n",
    "                    mouse_pos = list(pygame.mouse.get_pos())\n",
    "                    if mouse_pos[0] >= CARD_GRID[i][j].x and mouse_pos[1] >= CARD_GRID[i][j].y and mouse_pos[0] <= CARD_GRID[i][j].x + CARD_LEN and mouse_pos[1] <= CARD_GRID[i][j].y + CARD_LEN:\n",
    "                        global has_instance\n",
    "                        has_instance = False\n",
    "                        for k in range(len(exposed)):\n",
    "                            if exposed[k] == [i, j]:\n",
    "                                has_instance = True\n",
    "\n",
    "                        for k in range(len(matched)):\n",
    "                            if matched[k] == [i, j]:\n",
    "                                has_instance = True\n",
    "\n",
    "                        if has_instance == False:\n",
    "                            exposed.append([i, j])\n",
    "                            \n",
    "    if len(exposed) == 2:\n",
    "        turns += 1\n",
    "        if CARD_VAL_GRID[exposed[0][0]][exposed[0][1]] == CARD_VAL_GRID[exposed[1][0]][exposed[1][1]]:\n",
    "            matched.extend(exposed)\n",
    "            exposed.clear()\n",
    "            \n",
    "        else:\n",
    "            wrong.extend(exposed)\n",
    "            exposed.clear()\n",
    "\n",
    "    #Limpa a tela\n",
    "    DISPLAY.fill(BLACK)\n",
    "\n",
    "    #Desenha os cards\n",
    "    for i in range(ROWS):\n",
    "        for j in range(COLS):\n",
    "            pygame.draw.rect(DISPLAY, (255, 255, 255), CARD_GRID[i][j])\n",
    "            \n",
    "    #Lança os números\n",
    "    if exposed:\n",
    "        for i in exposed:\n",
    "            text = str(CARD_VAL_GRID[i[0]][i[1]])\n",
    "            render = ARIAL_50.render(text, True, BLACK)\n",
    "            DISPLAY.blit(render, (CARD_GRID[i[0]][i[1]].x + CARD_HOR_PAD, CARD_GRID[i[0]][i[1]].y + CARD_VER_PAD))\n",
    "\n",
    "    if matched:\n",
    "        for i in matched:\n",
    "            text = str(CARD_VAL_GRID[i[0]][i[1]])\n",
    "            render = ARIAL_50.render(text, True, GREEN)\n",
    "            DISPLAY.blit(render, (CARD_GRID[i[0]][i[1]].x + CARD_HOR_PAD, CARD_GRID[i[0]][i[1]].y + CARD_VER_PAD))\n",
    "\n",
    "    if wrong:\n",
    "        for i in wrong:\n",
    "            text = str(CARD_VAL_GRID[i[0]][i[1]])\n",
    "            render = ARIAL_50.render(text, True, RED)\n",
    "            DISPLAY.blit(render, (CARD_GRID[i[0]][i[1]].x + CARD_HOR_PAD, CARD_GRID[i[0]][i[1]].y + CARD_VER_PAD))\n",
    "\n",
    "    title = ARIAL_35.render(\"Memória\", True, WHITE)\n",
    "    DISPLAY.blit(title, (570, 10))\n",
    "    turn_text = ARIAL_20.render(\"Rodadas: \" + str(turns), True, WHITE)\n",
    "    DISPLAY.blit(turn_text, (580, 75))\n",
    "\n",
    "    #Confere vitória\n",
    "    if len(matched) == 20:\n",
    "        DISPLAY.fill(BLACK)\n",
    "        win = ARIAL_200.render(\"Você venceu!\", True, GREEN)\n",
    "        DISPLAY.blit(win, (40, 105))\n",
    "        pygame.display.flip()\n",
    "        break\n",
    "    \n",
    "    pygame.display.flip()\n",
    "    if wrong:\n",
    "        time.sleep(1)\n",
    "        wrong.clear()"
   ],
   "outputs": [],
   "metadata": {}
  }
 ],
 "metadata": {
  "orig_nbformat": 4,
  "language_info": {
   "name": "python",
   "version": "3.8.10",
   "mimetype": "text/x-python",
   "codemirror_mode": {
    "name": "ipython",
    "version": 3
   },
   "pygments_lexer": "ipython3",
   "nbconvert_exporter": "python",
   "file_extension": ".py"
  },
  "kernelspec": {
   "name": "python3",
   "display_name": "Python 3.8.10 64-bit"
  },
  "interpreter": {
   "hash": "31f2aee4e71d21fbe5cf8b01ff0e069b9275f58929596ceb00d14d90e3e16cd6"
  }
 },
 "nbformat": 4,
 "nbformat_minor": 2
}