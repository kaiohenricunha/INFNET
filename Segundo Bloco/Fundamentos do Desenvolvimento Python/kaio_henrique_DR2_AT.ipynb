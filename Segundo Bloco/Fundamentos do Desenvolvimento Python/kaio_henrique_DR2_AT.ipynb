{
 "cells": [
  {
   "cell_type": "code",
   "execution_count": 7,
   "source": [
    "# 1 - Usando o Thonny, escreva um programa em Python que leia uma tupla contendo 3 números inteiros, (n1, n2, n3) e os imprima em ordem crescente.\n",
    "\n",
    "def menor_para_maior(tupla):\n",
    "    nova_tupla = sorted(tupla)\n",
    "    print(nova_tupla)\n",
    "\n",
    "\n",
    "tupla = (1, 0, 3, 4, 10, 7, 5)\n",
    "\n",
    "menor_para_maior(tupla)\n"
   ],
   "outputs": [
    {
     "output_type": "stream",
     "name": "stdout",
     "text": [
      "[0, 1, 3, 4, 5, 7, 10]\n"
     ]
    }
   ],
   "metadata": {}
  },
  {
   "cell_type": "code",
   "execution_count": 13,
   "source": [
    "# 2 - Usando o Thonny, escreva um programa em Python que some todos os números pares de 1 até um dado n, inclusive. \n",
    "# O dado n deve ser obtido do usuário. No final, escreva o valor do resultado desta soma.\n",
    "\n",
    "n = input('Digite um número')\n",
    "n = int(n)\n",
    "\n",
    "def soma_pares(numero):\n",
    "    soma = 0\n",
    "\n",
    "    for i in range(numero):\n",
    "        if i % 2 == 0:\n",
    "            soma = soma + i\n",
    "    if numero % 2 == 0:\n",
    "        soma = soma + numero\n",
    "    print('A soma dos números pares foi', soma)\n",
    "\n",
    "soma_pares(n)"
   ],
   "outputs": [
    {
     "output_type": "stream",
     "name": "stdout",
     "text": [
      "A soma dos números pares foi 30\n"
     ]
    }
   ],
   "metadata": {}
  },
  {
   "cell_type": "code",
   "execution_count": null,
   "source": [
    "# 3 - Usando o Thonny, escreva uma função em Python chamada potencia. \n",
    "# Esta função deve obter como argumentos dois números inteiros, A e B, e calcular AB usando multiplicações \n",
    "# sucessivas (não use a função de python math.pow) e retornar o resultado da operação. \n",
    "# Depois, crie um programa em Python que obtenha dois números inteiros do usuário e indique o resultado de AB usando a função.\n",
    "\n",
    "def potencia(a, b):\n",
    "    if(b == 1):\n",
    "        return(a)\n",
    "\n",
    "a = int(input(\"Insira o número base: \"))\n",
    "b = int(input(\"insira o número exponential: \"))\n",
    "print(\"Resultado:\", potencia(a, b))"
   ],
   "outputs": [],
   "metadata": {}
  }
 ],
 "metadata": {
  "orig_nbformat": 4,
  "language_info": {
   "name": "python",
   "version": "3.8.10",
   "mimetype": "text/x-python",
   "codemirror_mode": {
    "name": "ipython",
    "version": 3
   },
   "pygments_lexer": "ipython3",
   "nbconvert_exporter": "python",
   "file_extension": ".py"
  },
  "kernelspec": {
   "name": "python3",
   "display_name": "Python 3.8.10 64-bit"
  },
  "interpreter": {
   "hash": "916dbcbb3f70747c44a77c7bcd40155683ae19c65e1c03b4aa3499c5328201f1"
  }
 },
 "nbformat": 4,
 "nbformat_minor": 2
}