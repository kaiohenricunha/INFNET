{
 "cells": [
  {
   "cell_type": "code",
   "execution_count": 7,
   "source": [
    "# 1 - Usando o Thonny, escreva um programa em Python que leia uma tupla contendo 3 números inteiros, (n1, n2, n3) e os imprima em ordem crescente.\n",
    "\n",
    "def menor_para_maior(tupla):\n",
    "    nova_tupla = sorted(tupla)\n",
    "    print(nova_tupla)\n",
    "\n",
    "\n",
    "tupla = (1, 0, 3, 4, 10, 7, 5)\n",
    "\n",
    "menor_para_maior(tupla)\n"
   ],
   "outputs": [
    {
     "output_type": "stream",
     "name": "stdout",
     "text": [
      "[0, 1, 3, 4, 5, 7, 10]\n"
     ]
    }
   ],
   "metadata": {}
  },
  {
   "cell_type": "code",
   "execution_count": 13,
   "source": [
    "# 2 - Usando o Thonny, escreva um programa em Python que some todos os números pares de 1 até um dado n, inclusive. \n",
    "# O dado n deve ser obtido do usuário. No final, escreva o valor do resultado desta soma.\n",
    "\n",
    "n = input('Digite um número')\n",
    "n = int(n)\n",
    "\n",
    "def soma_pares(numero):\n",
    "    soma = 0\n",
    "\n",
    "    for i in range(numero):\n",
    "        if i % 2 == 0:\n",
    "            soma = soma + i\n",
    "    if numero % 2 == 0:\n",
    "        soma = soma + numero\n",
    "    print('A soma dos números pares foi', soma)\n",
    "\n",
    "soma_pares(n)"
   ],
   "outputs": [
    {
     "output_type": "stream",
     "name": "stdout",
     "text": [
      "A soma dos números pares foi 30\n"
     ]
    }
   ],
   "metadata": {}
  },
  {
   "cell_type": "code",
   "execution_count": 16,
   "source": [
    "# 3 - Usando o Thonny, escreva uma função em Python chamada potencia. \n",
    "# Esta função deve obter como argumentos dois números inteiros, A e B, e calcular AB usando multiplicações \n",
    "# sucessivas (não use a função de python math.pow) e retornar o resultado da operação. \n",
    "# Depois, crie um programa em Python que obtenha dois números inteiros do usuário e indique o resultado de AB usando a função.\n",
    "\n",
    "def potencia(a, b):\n",
    "    if(b == 1):\n",
    "        return(a)\n",
    "    if(b != 1):\n",
    "        return(a*potencia(a,b-1))\n",
    "\n",
    "def numeros():\n",
    "    a = int(input(\"Insira o número base: \"))\n",
    "    b = int(input(\"insira o número exponential: \"))\n",
    "    print(\"Resultado:\", potencia(a, b))\n",
    "\n",
    "numeros()"
   ],
   "outputs": [
    {
     "output_type": "stream",
     "name": "stdout",
     "text": [
      "Resultado: 100\n"
     ]
    }
   ],
   "metadata": {}
  },
  {
   "cell_type": "code",
   "execution_count": 17,
   "source": [
    "# 4 - Escreva um programa em Python que leia um vetor de 5 números inteiros e o apresente na ordem inversa. Imprima o vetor no final. Use listas.\n",
    "# Exemplo: se a entrada for [4, 3, 5, 1, 2], o resultado deve ser [2, 1, 5, 3, 4].\n",
    "\n",
    "vetor = [1, 2, 3, 4, 5]\n",
    "\n",
    "def vetor_inverso(vetor):\n",
    "    vetor.reverse()\n",
    "\n",
    "    print(vetor)\n",
    "\n",
    "vetor_inverso(vetor)\n"
   ],
   "outputs": [
    {
     "output_type": "stream",
     "name": "stdout",
     "text": [
      "[5, 4, 3, 2, 1]\n"
     ]
    }
   ],
   "metadata": {}
  },
  {
   "cell_type": "code",
   "execution_count": 25,
   "source": [
    "# 5 - Escreva uma função em Python que leia uma tupla contendo números inteiros, retorne uma lista contendo somente os números ímpares \n",
    "# e uma nova tupla contendo somente os elementos nas posições pares.\n",
    "\n",
    "lista = [1, 50, 4, 3, 12, 11, 20]\n",
    "\n",
    "def lista_par_impar(lista):\n",
    "    lista_par = []\n",
    "    lista_impar = []\n",
    "\n",
    "    tamanho = len(lista)\n",
    "\n",
    "    for i in range(tamanho):\n",
    "        if lista[i] % 2 == 0:\n",
    "            lista_par.append(lista[i])\n",
    "        else:\n",
    "            lista_impar.append(lista[i])\n",
    "    print('Lista Par:', lista_par)\n",
    "    print('Lista Impar:', lista_impar)\n",
    "\n",
    "lista_par_impar(lista)\n",
    "\n"
   ],
   "outputs": [
    {
     "output_type": "stream",
     "name": "stdout",
     "text": [
      "Lista Par: [50, 4, 12, 20]\n",
      "Lista Impar: [1, 3, 11]\n"
     ]
    }
   ],
   "metadata": {}
  },
  {
   "cell_type": "code",
   "execution_count": 1,
   "source": [
    "# 6 - Usando a biblioteca ‘pygame’, escreva um programa que desenha na tela em posição aleatória um quadrado amarelo de tamanho 50 (cinquenta), \n",
    "# toda vez que a tecla espaço for pressionada ou o botão direito for clicado.\n",
    "\n",
    "import pygame\n",
    "import pygame.time\n",
    "import random\n",
    "\n",
    "largura_tela = 800\n",
    "altura_tela = 600\n",
    "\n",
    "quadrados_iniciais = 20\n",
    "\n",
    "pygame.init()\n",
    "# Todo o código deve fica aqui\n",
    "\n",
    "#Para criar uma janela onde o jogo acontecerá\n",
    "tela = pygame.display.set_mode((largura_tela, altura_tela))\n",
    "\n",
    "#Criando um temporizador\n",
    "clock = pygame.time.Clock()\n",
    "\n",
    "# Vamos criar uma classe Quadradinho:\n",
    "class Quadradinho():\n",
    "    \n",
    "    def __init__(self):\n",
    "        self.largura = 50\n",
    "        self.altura = 50\n",
    "        self.x = random.randint(0, largura_tela-self.largura)\n",
    "        self.y = random.randint(0, altura_tela-self.altura)\n",
    "        self.area = pygame.Rect(self.x, self.y, self.largura, self.altura)\n",
    "        self.cor = (random.randint(20, 255), random.randint(20, 255), random.randint(20, 255))\n",
    "        \n",
    "    def desenha(self, tela):\n",
    "        pygame.draw.rect(tela, self.cor, self.area)\n",
    "\n",
    "terminou = False\n",
    "DIREITA = 3\n",
    "\n",
    "while not terminou:\n",
    "    event = pygame.event.poll()\n",
    "    # Atualiza o desenho na tela\n",
    "    pygame.display.update()\n",
    "    \n",
    "    #Configura 50 atualizações de tela por segundo\n",
    "    clock.tick(50)\n",
    "    \n",
    "    # Checar os eventos do mouse aqui:\n",
    "    for event in pygame.event.get():\n",
    "        if event.type == pygame.QUIT:\n",
    "            terminou = True\n",
    "        if event.type == pygame.KEYDOWN:\n",
    "            if event.key == pygame.K_SPACE:\n",
    "                q = Quadradinho()\n",
    "                q.desenha(tela)\n",
    "        elif event.type == pygame.MOUSEBUTTONDOWN and event.button == DIREITA:\n",
    "            q = Quadradinho()\n",
    "            q.desenha(tela)\n",
    "\n",
    "# Finaliza a janela do jogo\n",
    "pygame.display.quit()\n",
    "# Finaliza o pygame\n",
    "pygame.quit()"
   ],
   "outputs": [
    {
     "output_type": "stream",
     "name": "stdout",
     "text": [
      "pygame 2.0.1 (SDL 2.0.14, Python 3.8.10)\n",
      "Hello from the pygame community. https://www.pygame.org/contribute.html\n"
     ]
    }
   ],
   "metadata": {}
  },
  {
   "cell_type": "code",
   "execution_count": null,
   "source": [
    "# 7 - Obtenha, usando requests ou urllib, dentro de seu programa em Python, o csv do link:\n",
    "# https://sites.google.com/site/dr2fundamentospython/arquivos/Winter_Olympics_Medals.csv e:\n",
    "# a) Dentre os seguintes países nórdicos: Suécia, Dinamarca e Noruega, verifique: No século XXI (a partir de 2001), qual foi o maior medalhista de ouro, considerando apenas as seguintes modalidades:\n",
    "#     i. Curling\n",
    "#     ii. Patinação no gelo (skating)\n",
    "#     iii. Esqui (skiing)\n",
    "#     iv. Hóquei sobre o gelo (ice hockey)\n",
    "# b) Para cada esporte, considere todas as modalidades, tanto no masculino quanto no feminino. Sua resposta deve imprimir um relatório mostrando o total de medalhas de cada um dos países e em que esporte, ano, cidade e gênero (masculino ou feminino) cada medalha foi obtida.\n",
    "\n",
    "\n"
   ],
   "outputs": [],
   "metadata": {}
  }
 ],
 "metadata": {
  "orig_nbformat": 4,
  "language_info": {
   "name": "python",
   "version": "3.8.10",
   "mimetype": "text/x-python",
   "codemirror_mode": {
    "name": "ipython",
    "version": 3
   },
   "pygments_lexer": "ipython3",
   "nbconvert_exporter": "python",
   "file_extension": ".py"
  },
  "kernelspec": {
   "name": "python3",
   "display_name": "Python 3.8.10 64-bit"
  },
  "interpreter": {
   "hash": "916dbcbb3f70747c44a77c7bcd40155683ae19c65e1c03b4aa3499c5328201f1"
  }
 },
 "nbformat": 4,
 "nbformat_minor": 2
}