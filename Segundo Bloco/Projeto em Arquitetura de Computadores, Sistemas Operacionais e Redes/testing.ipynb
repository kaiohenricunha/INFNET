{
 "cells": [
  {
   "cell_type": "code",
   "execution_count": 8,
   "source": [
    "import cpuinfo\n",
    "info = cpuinfo.get_cpu_info()\n",
    "for i in info:\n",
    "        print(i, \":\", info[i])"
   ],
   "outputs": [
    {
     "output_type": "stream",
     "name": "stdout",
     "text": [
      "python_version : 3.8.10.final.0 (64 bit)\n",
      "cpuinfo_version : [5, 0, 0]\n",
      "arch : X86_64\n",
      "bits : 64\n",
      "count : 2\n",
      "raw_arch_string : x86_64\n",
      "vendor_id : GenuineIntel\n",
      "brand : Intel(R) Core(TM) i7-5557U CPU @ 3.10GHz\n",
      "hz_advertised : 3.1000 GHz\n",
      "hz_actual : 3.1000 GHz\n",
      "hz_advertised_raw : [3100000000, 0]\n",
      "hz_actual_raw : [3100000000, 0]\n",
      "stepping : 4\n",
      "model : 61\n",
      "family : 6\n",
      "flags : ['3dnowprefetch', 'abm', 'adx', 'aes', 'apic', 'arat', 'arch_capabilities', 'arch_perfmon', 'avx', 'avx2', 'bmi1', 'bmi2', 'clflush', 'cmov', 'constant_tsc', 'cpuid', 'cpuid_fault', 'cx16', 'cx8', 'de', 'erms', 'f16c', 'flush_l1d', 'fma', 'fpu', 'fsgsbase', 'fxsr', 'hypervisor', 'ibpb', 'ibrs', 'invpcid', 'invpcid_single', 'lahf_lm', 'lm', 'mca', 'mce', 'md_clear', 'mmx', 'movbe', 'msr', 'mtrr', 'nonstop_tsc', 'nopl', 'nx', 'osxsave', 'pae', 'pat', 'pcid', 'pclmulqdq', 'pdpe1gb', 'pge', 'pni', 'popcnt', 'pse', 'pse36', 'pti', 'rdrand', 'rdrnd', 'rdseed', 'rdtscp', 'sep', 'smap', 'smep', 'ss', 'ssbd', 'sse', 'sse2', 'sse4_1', 'sse4_2', 'ssse3', 'stibp', 'syscall', 'tsc', 'tsc_adjust', 'tsc_deadline_timer', 'tsc_reliable', 'tscdeadline', 'vme', 'x2apic', 'xsave', 'xsaveopt', 'xtopology']\n",
      "l3_cache_size : 4096 KB\n",
      "l2_cache_size : 512 KiB\n",
      "l1_data_cache_size : 64 KiB\n",
      "l1_instruction_cache_size : 64 KiB\n",
      "l2_cache_line_size : 6\n",
      "l2_cache_associativity : 0x100\n",
      "extended_model : 3\n"
     ]
    }
   ],
   "metadata": {}
  },
  {
   "cell_type": "code",
   "execution_count": 17,
   "source": [],
   "outputs": [
    {
     "output_type": "error",
     "ename": "SyntaxError",
     "evalue": "invalid syntax (3068371560.py, line 1)",
     "traceback": [
      "\u001b[0;36m  File \u001b[0;32m\"/tmp/ipykernel_37515/3068371560.py\"\u001b[0;36m, line \u001b[0;32m1\u001b[0m\n\u001b[0;31m    if chave = \"freq\":\u001b[0m\n\u001b[0m             ^\u001b[0m\n\u001b[0;31mSyntaxError\u001b[0m\u001b[0;31m:\u001b[0m invalid syntax\n"
     ]
    }
   ],
   "metadata": {}
  }
 ],
 "metadata": {
  "orig_nbformat": 4,
  "language_info": {
   "name": "python",
   "version": "3.8.10",
   "mimetype": "text/x-python",
   "codemirror_mode": {
    "name": "ipython",
    "version": 3
   },
   "pygments_lexer": "ipython3",
   "nbconvert_exporter": "python",
   "file_extension": ".py"
  },
  "kernelspec": {
   "name": "python3",
   "display_name": "Python 3.8.10 64-bit"
  },
  "interpreter": {
   "hash": "31f2aee4e71d21fbe5cf8b01ff0e069b9275f58929596ceb00d14d90e3e16cd6"
  }
 },
 "nbformat": 4,
 "nbformat_minor": 2
}