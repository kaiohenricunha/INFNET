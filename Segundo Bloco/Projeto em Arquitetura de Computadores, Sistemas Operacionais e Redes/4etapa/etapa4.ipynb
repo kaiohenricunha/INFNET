{
 "cells": [
  {
   "cell_type": "code",
   "execution_count": 4,
   "metadata": {},
   "outputs": [
    {
     "name": "stdout",
     "output_type": "stream",
     "text": [
      "['etapa4.ipynb', '.ipynb_checkpoints']\n",
      "2\n",
      "etapa4.ipynb\n",
      ".ipynb_checkpoints\n"
     ]
    }
   ],
   "source": [
    "import os\n",
    "\n",
    "# obtem lista de arquivos e diretorios do diretorio corrente\n",
    "lista = os.listdir()\n",
    "\n",
    "dic = {} # cria dicionario\n",
    "for i in lista: # varia na lista dos arquivos e diretorios\n",
    "    if os.path.isfile(i):\n",
    "        # cria uma lista para cada arquivo. Esta lista contém o\n",
    "        # tamanho, data de criaçao e data de modificacao\n",
    "        dic[i] = []\n",
    "        dic[i].append(os.stat(i).st_size) # tamanho\n",
    "        dic[i].append(os.stat(i).st_atime) # tempo de criaçao\n",
    "        dic[i].append(os.stat(i).st_mtime) # tempo de modificaçao\n",
    "\n",
    "print(lista)\n",
    "print(len(lista))\n",
    "print(lista[0])\n",
    "print(lista[-1])"
   ]
  },
  {
   "cell_type": "code",
   "execution_count": 2,
   "metadata": {},
   "outputs": [
    {
     "name": "stdout",
     "output_type": "stream",
     "text": [
      "Tamanho    Data de Modificaçao        Data de Criaçao            Nome\n",
      "3.02 KB    Sun Oct 17 11:55:35 2021   Sun Oct 17 11:55:36 2021   etapa4.ipynb\n"
     ]
    }
   ],
   "source": [
    "import os\n",
    "import time\n",
    "\n",
    "# obtem lista de arquivos e diretorios do diretorio corrente\n",
    "lista = os.listdir()\n",
    "\n",
    "dic = {} # cria dicionario\n",
    "for i in lista: # varia na lista dos arquivos e diretorios\n",
    "    if os.path.isfile(i):\n",
    "        # cria uma lista para cada arquivo. Esta lista contém o\n",
    "        # tamanho, data de criaçao e data de modificacao\n",
    "        dic[i] = []\n",
    "        dic[i].append(os.stat(i).st_size) # tamanho\n",
    "        dic[i].append(os.stat(i).st_atime) # tempo de criaçao\n",
    "        dic[i].append(os.stat(i).st_mtime) # tempo de modificaçao\n",
    "\n",
    "titulo = '{:11}'.format(\"Tamanho\") # 10 caracteres + 1 de espaço\n",
    "# concatenar com 25 caracteres + 2 de espaço\n",
    "titulo = titulo + '{:27}'.format(\"Data de Modificaçao\")\n",
    "titulo = titulo + '{:27}'.format(\"Data de Criaçao\")\n",
    "titulo = titulo + 'Nome'\n",
    "print(titulo)\n",
    "\n",
    "for i in dic:\n",
    "    kb = dic[i][0]/1024\n",
    "    tamanho = '{:10}'.format(str('{:.2f}'.format(kb) + ' KB'))\n",
    "    print(tamanho, time.ctime(dic[i][2]), \" \", time.ctime(dic[i][1]), \" \", i)"
   ]
  },
  {
   "cell_type": "code",
   "execution_count": 1,
   "metadata": {},
   "outputs": [
    {
     "name": "stdout",
     "output_type": "stream",
     "text": [
      "Arquivos:\n",
      "\tetapa4.ipynb\n",
      "\n",
      "Diretórios:\n",
      "\t.ipynb_checkpoints\n",
      "\n"
     ]
    }
   ],
   "source": [
    "import os\n",
    "\n",
    "lista = os.listdir()\n",
    "lista_arq = []\n",
    "lista_dir = []\n",
    "\n",
    "for i in lista:\n",
    "    if os.path.isfile(i):\n",
    "        lista_arq.append(i)\n",
    "    else:\n",
    "        lista_dir.append(i)\n",
    "\n",
    "if len(lista_arq) > 0: # checa se tem arquivo na lista\n",
    "    print(\"Arquivos:\")\n",
    "    for i in lista_arq:\n",
    "        print(\"\\t\" + i) # insere uma tabulaçao no início\n",
    "    print(\"\") # quebra de linha\n",
    "if len(lista_dir) > 0:\n",
    "    print(\"Diretórios:\")\n",
    "    for i in lista_dir:\n",
    "        print(\"\\t\" + i) # insere uma tabulaçao no início\n",
    "    print(\"\")\n",
    "    "
   ]
  },
  {
   "cell_type": "code",
   "execution_count": null,
   "metadata": {},
   "outputs": [],
   "source": [
    "import os\n",
    "\n",
    "lista = os.listdir()\n",
    "dic_arq = {}\n",
    "\n",
    "for i in lista:\n",
    "    if os.path.isfile(i):\n",
    "        ext = os.path.splitext(i)[1] # separa em nome e ext\n",
    "        # verifica se a ext esta presente no dic\n",
    "        if not ext in dic_arq:\n",
    "            dic_arq[ext] = []\n",
    "        dic_arq[ext].append(i)\n",
    "\n",
    "print(dic_arq)"
   ]
  }
 ],
 "metadata": {
  "interpreter": {
   "hash": "916dbcbb3f70747c44a77c7bcd40155683ae19c65e1c03b4aa3499c5328201f1"
  },
  "kernelspec": {
   "display_name": "Python 3.8.10 64-bit",
   "name": "python3"
  },
  "language_info": {
   "codemirror_mode": {
    "name": "ipython",
    "version": 3
   },
   "file_extension": ".py",
   "mimetype": "text/x-python",
   "name": "python",
   "nbconvert_exporter": "python",
   "pygments_lexer": "ipython3",
   "version": "3.8.10"
  },
  "orig_nbformat": 4
 },
 "nbformat": 4,
 "nbformat_minor": 2
}
