{
 "cells": [
  {
   "cell_type": "code",
   "execution_count": 4,
   "source": [
    "import os\n",
    "\n",
    "# obtem lista de arquivos e diretorios do diretorio corrente\n",
    "lista = os.listdir()\n",
    "\n",
    "dic = {} # cria dicionario\n",
    "for i in lista: # varia na lista dos arquivos e diretorios\n",
    "    if os.path.isfile(i):\n",
    "        # cria uma lista para cada arquivo. Esta lista contém o\n",
    "        # tamanho, data de criaçao e data de modificacao\n",
    "        dic[i] = []\n",
    "        dic[i].append(os.stat(i).st_size) # tamanho\n",
    "        dic[i].append(os.stat(i).st_atime) # tempo de criaçao\n",
    "        dic[i].append(os.stat(i).st_mtime) # tempo de modificaçao\n",
    "\n",
    "print(lista)\n",
    "print(len(lista))\n",
    "print(lista[0])\n",
    "print(lista[-1])"
   ],
   "outputs": [
    {
     "output_type": "stream",
     "name": "stdout",
     "text": [
      "['etapa4.ipynb', '.ipynb_checkpoints']\n",
      "2\n",
      "etapa4.ipynb\n",
      ".ipynb_checkpoints\n"
     ]
    }
   ],
   "metadata": {}
  },
  {
   "cell_type": "code",
   "execution_count": null,
   "source": [
    "import os\n",
    "import time\n",
    "\n",
    "# obtem lista de arquivos e diretorios do diretorio corrente\n",
    "lista = os.listdir()\n",
    "\n",
    "dic = {} # cria dicionario\n",
    "for i in lista: # varia na lista dos arquivos e diretorios\n",
    "    if os.path.isfile(i):\n",
    "        # cria uma lista para cada arquivo. Esta lista contém o\n",
    "        # tamanho, data de criaçao e data de modificacao\n",
    "        dic[i] = []\n",
    "        dic[i].append(os.stat(i).st_size) # tamanho\n",
    "        dic[i].append(os.stat(i).st_atime) # tempo de criaçao\n",
    "        dic[i].append(os.stat(i).st_mtime) # tempo de modificaçao\n",
    "\n",
    "titulo = '{:11}'.format(\"Tamanho\") # 10 caracteres + 1 de espaço\n",
    "# concatenar com 25 caracteres + 2 de espaço\n",
    "titulo = titulo + '{:27}'.format(\"Data de Modificaçao\")\n",
    "titulo = titulo + '{:27}'.format(\"Data de Criaçao\")\n",
    "titulo = titulo + 'Nome'\n",
    "print(titulo)\n",
    "\n",
    "for i in dic:\n",
    "    kb = dic[i][0]/1024\n",
    "    tamanho = '{:10}'.format(str('{:.2f}'.format(kb) + ' KB'))\n",
    "    print(tamanho, time.ctime(dic[i][2]), \" \", time.ctime(dic[i][1]), \" \", i)\n",
    "\n",
    "\n",
    "print(len(lista))\n",
    "print(lista[0])\n",
    "print(lista[-1])"
   ],
   "outputs": [],
   "metadata": {}
  }
 ],
 "metadata": {
  "orig_nbformat": 4,
  "language_info": {
   "name": "python",
   "version": "3.8.10",
   "mimetype": "text/x-python",
   "codemirror_mode": {
    "name": "ipython",
    "version": 3
   },
   "pygments_lexer": "ipython3",
   "nbconvert_exporter": "python",
   "file_extension": ".py"
  },
  "kernelspec": {
   "name": "python3",
   "display_name": "Python 3.8.10 64-bit"
  },
  "interpreter": {
   "hash": "916dbcbb3f70747c44a77c7bcd40155683ae19c65e1c03b4aa3499c5328201f1"
  }
 },
 "nbformat": 4,
 "nbformat_minor": 2
}